{
  "nbformat": 4,
  "nbformat_minor": 0,
  "metadata": {
    "colab": {
      "name": "Python_0510_class연습02.ipynb",
      "provenance": [],
      "collapsed_sections": [],
      "authorship_tag": "ABX9TyPCGrAJa8jAp9fHHW8C6RLu",
      "include_colab_link": true
    },
    "kernelspec": {
      "name": "python3",
      "display_name": "Python 3"
    },
    "language_info": {
      "name": "python"
    }
  },
  "cells": [
    {
      "cell_type": "markdown",
      "metadata": {
        "id": "view-in-github",
        "colab_type": "text"
      },
      "source": [
        "<a href=\"https://colab.research.google.com/github/ESJoGithub/ESJoGithub.github.io/blob/master/Python_0510_class%EC%97%B0%EC%8A%B502.ipynb\" target=\"_parent\"><img src=\"https://colab.research.google.com/assets/colab-badge.svg\" alt=\"Open In Colab\"/></a>"
      ]
    },
    {
      "cell_type": "code",
      "execution_count": null,
      "metadata": {
        "id": "AXLIe2pPq_r1"
      },
      "outputs": [],
      "source": [
        "_List=[]\n",
        "\n",
        "def insert(_list, pos, e):\n",
        "  _list.insert(pos, e)\n",
        "  print(\"{0}을/를 {1}위치에 입력하였습니다.\".format(e, pos))\n",
        "\n",
        "def delete(_list, pos):\n",
        "  element = _list.pop(pos)\n",
        "  print(\"{}을/를 삭제했습니다.\".format(element))\n",
        "\n",
        "def isEmpty(_list):\n",
        "  if len(_list) == 0:\n",
        "    print(\"리스트가 비어있습니다.\")\n",
        "  else :\n",
        "    print(\"리스트의 아이템이 비어있지 않습니다.\")\n",
        "\n",
        "def getEntry(_list, pos):\n",
        "  if int(pos) < len(_list):\n",
        "    element = _list[pos]\n",
        "    print(\"{0}위치의 요소는 {1}입니다.\".format(pos, element))\n",
        "  else:\n",
        "    print(\"리스트의 범위를 벗어나는 위치를 입력하셨습니다.\")\n",
        "\n",
        "def size(_list):\n",
        "  count = len(_list)\n",
        "  print(\"리스트의 아이템 수는 {}개입니다.\".format(count))\n",
        "\n",
        "def clear(_list):\n",
        "  list = []\n",
        "  print(\"리스트를 초기화하였습니다.\")\n",
        "\n",
        "def find(_list, item):\n",
        "  if item in _list:\n",
        "    print(\"{0}이/가 {1}에 있습니다.\".format(item, _list.index(item)))\n",
        "  else:\n",
        "    print(\"{0}이/가 리스트에 존재하지 않습니다.\".format(item))\n",
        "\n",
        "def replace(_list, pos, item):\n",
        "  _list.pop(pos)\n",
        "  _list.insert(pos, item)\n",
        "  print(\"{0}의 요소를 {1}(으)로 대체하였습니다.\".format(pos, item))\n",
        "\n",
        "def sort(_list, _sort=True):\n",
        "  if _sort == True:\n",
        "    _list.sort()\n",
        "    print(\"리스트를 오름차순으로 정렬하였습니다.\")\n",
        "  elif _sort == False:\n",
        "    _list.sort(reverse=True)\n",
        "    print(\"리스트를 내림차순으로 정렬하였습니다.\")\n",
        "  else:\n",
        "    print(\"리스트 정렬 방식이 잘못 입력되었습니다.\")\n",
        "\n",
        "def merge(_list, _list2):\n",
        "  _list += _list2\n",
        "  print(\"입력하신 리스트를 리스트에 추가하였습니다.\")\n",
        "\n",
        "def display(_list):\n",
        "  print(_list)\n",
        "\n",
        "def append(_list, e):\n",
        "  _list.append(e)\n",
        "  print(\"{}을/를 리스트에 추가하였습니다.\".format(e))\n"
      ]
    },
    {
      "cell_type": "code",
      "source": [
        "m_list = [10, 20, 30, 40, 50]\n",
        "insert(m_list, 0, 60)"
      ],
      "metadata": {
        "colab": {
          "base_uri": "https://localhost:8080/"
        },
        "id": "-rur0C-5oVIt",
        "outputId": "06edc34e-e6d3-44ad-8780-50ba794204b3"
      },
      "execution_count": null,
      "outputs": [
        {
          "output_type": "stream",
          "name": "stdout",
          "text": [
            "60을/를 0위치에 입력하였습니다.\n"
          ]
        }
      ]
    },
    {
      "cell_type": "code",
      "source": [
        "delete(m_list, 1)"
      ],
      "metadata": {
        "colab": {
          "base_uri": "https://localhost:8080/"
        },
        "id": "X8O67HcurenT",
        "outputId": "12e437e5-220d-4683-cff9-ac016b12480d"
      },
      "execution_count": null,
      "outputs": [
        {
          "output_type": "stream",
          "name": "stdout",
          "text": [
            "10을/를 삭제했습니다.\n"
          ]
        }
      ]
    },
    {
      "cell_type": "code",
      "source": [
        "isEmpty(m_list)"
      ],
      "metadata": {
        "colab": {
          "base_uri": "https://localhost:8080/"
        },
        "id": "D6gpXE2grl8z",
        "outputId": "616e99fb-4c32-494b-ac3a-8e61e3ffa78e"
      },
      "execution_count": null,
      "outputs": [
        {
          "output_type": "stream",
          "name": "stdout",
          "text": [
            "리스트의 아이템이 비어있지 않습니다.\n"
          ]
        }
      ]
    },
    {
      "cell_type": "code",
      "source": [
        "getEntry(m_list, 6)"
      ],
      "metadata": {
        "colab": {
          "base_uri": "https://localhost:8080/"
        },
        "id": "j7KTgcrIrpfj",
        "outputId": "92ca213f-6005-4d24-fc36-2aaa26bab9a2"
      },
      "execution_count": null,
      "outputs": [
        {
          "output_type": "stream",
          "name": "stdout",
          "text": [
            "리스트의 범위를 벗어나는 위치를 입력하셨습니다.\n"
          ]
        }
      ]
    },
    {
      "cell_type": "code",
      "source": [
        "size(m_list)"
      ],
      "metadata": {
        "colab": {
          "base_uri": "https://localhost:8080/"
        },
        "id": "xB_4Mz7isd_7",
        "outputId": "7cba17e8-37e0-4505-db69-ea3a8b7c603b"
      },
      "execution_count": null,
      "outputs": [
        {
          "output_type": "stream",
          "name": "stdout",
          "text": [
            "리스트의 아이템 수는 5개입니다.\n"
          ]
        }
      ]
    },
    {
      "cell_type": "code",
      "source": [
        "find(m_list, \"라\")"
      ],
      "metadata": {
        "colab": {
          "base_uri": "https://localhost:8080/"
        },
        "id": "Rh2OZkJPshrb",
        "outputId": "2e2fb007-59d7-45b4-f0e4-9f39a41d0e36"
      },
      "execution_count": null,
      "outputs": [
        {
          "output_type": "stream",
          "name": "stdout",
          "text": [
            "라이/가 리스트에 존재하지 않습니다.\n"
          ]
        }
      ]
    },
    {
      "cell_type": "code",
      "source": [
        "replace(m_list, 3, 100)"
      ],
      "metadata": {
        "colab": {
          "base_uri": "https://localhost:8080/"
        },
        "id": "hKSauu3xsxJT",
        "outputId": "cc69a31b-7abe-4674-dd7d-c0f33adf8516"
      },
      "execution_count": null,
      "outputs": [
        {
          "output_type": "stream",
          "name": "stdout",
          "text": [
            "3의 요소를 100(으)로 대체하였습니다.\n"
          ]
        }
      ]
    },
    {
      "cell_type": "code",
      "source": [
        "sort(m_list)"
      ],
      "metadata": {
        "colab": {
          "base_uri": "https://localhost:8080/"
        },
        "id": "cWrhLyUvsRJD",
        "outputId": "95b3f031-0cf9-4c43-8d62-cc2e4397c42a"
      },
      "execution_count": null,
      "outputs": [
        {
          "output_type": "stream",
          "name": "stdout",
          "text": [
            "리스트를 오름차순으로 정렬하였습니다.\n"
          ]
        }
      ]
    },
    {
      "cell_type": "code",
      "source": [
        "merge(m_list, [5, 6, 8])"
      ],
      "metadata": {
        "colab": {
          "base_uri": "https://localhost:8080/"
        },
        "id": "BDADbxPXuEMC",
        "outputId": "37c0519e-fb19-4637-f7dd-695221fb0c2e"
      },
      "execution_count": null,
      "outputs": [
        {
          "output_type": "stream",
          "name": "stdout",
          "text": [
            "입력하신 리스트를 리스트에 추가하였습니다.\n"
          ]
        }
      ]
    },
    {
      "cell_type": "code",
      "source": [
        "display(m_list)"
      ],
      "metadata": {
        "colab": {
          "base_uri": "https://localhost:8080/"
        },
        "id": "FVhUgD_6uLJq",
        "outputId": "36b8b12b-39f8-4817-fa9f-f7e6164a03a8"
      },
      "execution_count": null,
      "outputs": [
        {
          "output_type": "stream",
          "name": "stdout",
          "text": [
            "[20, 30, 50, 60, 100, 5, 6, 8]\n"
          ]
        }
      ]
    },
    {
      "cell_type": "code",
      "source": [
        "append(m_list, 15)"
      ],
      "metadata": {
        "colab": {
          "base_uri": "https://localhost:8080/"
        },
        "id": "pcyDUr4huOqT",
        "outputId": "9c675fcd-996c-4e31-ebdf-7db1d1c003ad"
      },
      "execution_count": null,
      "outputs": [
        {
          "output_type": "stream",
          "name": "stdout",
          "text": [
            "15을/를 리스트에 추가하였습니다.\n"
          ]
        }
      ]
    },
    {
      "cell_type": "code",
      "source": [
        "class ListA :\n",
        "\n",
        "  def __init__(self):\n",
        "    self._list = []\n",
        "\n",
        "  def insert(self, pos, e):\n",
        "    if pos < len(self._list):\n",
        "      self._list.insert(pos, e)\n",
        "      print(\"{0}을/를 {1}위치에 입력하였습니다.\".format(e, pos))\n",
        "    else:                                         #예외처리: insert pos가 list 범위를 넘어가는 경우 공백을 채우고 입력\n",
        "      for i in range(pos):\n",
        "        self._list.append('')\n",
        "      self._list.append(e)\n",
        "      print(\"{0}을/를 {1}위치에 입력하였습니다.\".format(e, pos))\n",
        "\n",
        "  def delete(self, pos):\n",
        "    if pos < len(self._list):\n",
        "      element = self._list.pop(pos)\n",
        "      print(\"{}을/를 삭제했습니다.\".format(element))\n",
        "    else :                                                                 #예외처리: pos가 list 범위를 넘어가는 경우\n",
        "      print(\"리스트의 범위를 벗어나는 위치를 입력하셨습니다.\")\n",
        "\n",
        "  def isEmpty(self):\n",
        "    if len(self._list) == 0:\n",
        "      print(\"리스트가 비어있습니다.\")\n",
        "    else :\n",
        "      print(\"리스트의 아이템이 비어있지 않습니다.\")\n",
        "\n",
        "  def getEntry(self, pos):\n",
        "    if pos < len(self._list):\n",
        "      element = self._list[pos]\n",
        "      print(\"{0}위치의 요소는 {1}입니다.\".format(pos, element))\n",
        "    else:\n",
        "      print(\"리스트의 범위를 벗어나는 위치를 입력하셨습니다.\")\n",
        "\n",
        "  def size(self):\n",
        "    count = len(self._list)\n",
        "    print(\"리스트의 아이템 수는 {}개입니다.\".format(count))\n",
        "\n",
        "  def clear(self):\n",
        "    self.list = []\n",
        "    print(\"리스트를 초기화하였습니다.\")\n",
        "\n",
        "  def find(self, item):\n",
        "    if item in self._list:\n",
        "      print(\"{0}이/가 {1}에 있습니다.\".format(item, self._list.index(item)))\n",
        "    else:\n",
        "      print(\"{0}이/가 리스트에 존재하지 않습니다.\".format(item))\n",
        "\n",
        "  def replace(self, pos, item):\n",
        "    self._list.pop(pos)\n",
        "    self._list.insert(pos, item)\n",
        "    print(\"{0}의 요소를 {1}(으)로 대체하였습니다.\".format(pos, item))\n",
        "\n",
        "  def sort(self, _sort=True):\n",
        "    try:\n",
        "      if _sort == True:\n",
        "        self._list.sort()\n",
        "        print(\"리스트를 오름차순으로 정렬하였습니다.\")\n",
        "      elif _sort == False:\n",
        "        self._list.sort(reverse=True)\n",
        "        print(\"리스트를 내림차순으로 정렬하였습니다.\")\n",
        "      else:\n",
        "        print(\"리스트 정렬 방식이 잘못 입력되었습니다.\")\n",
        "    except:                                            #예외처리: insert함수에서 공백 넣을 때 sort함수 에러 발생 방지\n",
        "      print(\"리스트 요소들의 유형이 서로 달라 정렬할 수 없습니다.\")       \n",
        "\n",
        "  def merge(self, _list2):\n",
        "    self._list += _list2\n",
        "    print(\"입력하신 리스트를 리스트에 추가하였습니다.\")\n",
        "\n",
        "  def display(self):\n",
        "    print(self._list)\n",
        "\n",
        "  def append(self, e):\n",
        "    self._list.append(e)\n",
        "    print(\"{}을/를 리스트에 추가하였습니다.\".format(e))"
      ],
      "metadata": {
        "id": "u7Aod7JGnlh1"
      },
      "execution_count": null,
      "outputs": []
    },
    {
      "cell_type": "code",
      "source": [
        "m_list1 = ListA()"
      ],
      "metadata": {
        "id": "cm8xq2NpwUOY"
      },
      "execution_count": null,
      "outputs": []
    },
    {
      "cell_type": "code",
      "source": [
        "m_list1.insert(2, 100)"
      ],
      "metadata": {
        "colab": {
          "base_uri": "https://localhost:8080/"
        },
        "id": "oM-gwdVl0VDy",
        "outputId": "2072002c-d15e-4703-de3f-540a63a9c12f"
      },
      "execution_count": null,
      "outputs": [
        {
          "output_type": "stream",
          "name": "stdout",
          "text": [
            "100을/를 2위치에 입력하였습니다.\n"
          ]
        }
      ]
    },
    {
      "cell_type": "code",
      "source": [
        "m_list1.display()"
      ],
      "metadata": {
        "colab": {
          "base_uri": "https://localhost:8080/"
        },
        "id": "SA3xjZQI0f-g",
        "outputId": "b49828d9-85b4-4798-c87d-3af3de8996d3"
      },
      "execution_count": null,
      "outputs": [
        {
          "output_type": "stream",
          "name": "stdout",
          "text": [
            "['', '', 100]\n"
          ]
        }
      ]
    },
    {
      "cell_type": "code",
      "source": [
        "m_list1.delete(5)"
      ],
      "metadata": {
        "colab": {
          "base_uri": "https://localhost:8080/"
        },
        "id": "1EiXfOTI0xso",
        "outputId": "3845a947-275a-4094-bf99-539f14179a16"
      },
      "execution_count": null,
      "outputs": [
        {
          "output_type": "stream",
          "name": "stdout",
          "text": [
            "리스트의 범위를 벗어나는 위치를 입력하셨습니다.\n"
          ]
        }
      ]
    },
    {
      "cell_type": "code",
      "source": [
        "m_list1.merge([10, 20, 30, 40, 50])"
      ],
      "metadata": {
        "colab": {
          "base_uri": "https://localhost:8080/"
        },
        "id": "kmr2ru7DuhWi",
        "outputId": "77541901-552e-4083-c895-f8357e64a9e5"
      },
      "execution_count": null,
      "outputs": [
        {
          "output_type": "stream",
          "name": "stdout",
          "text": [
            "입력하신 리스트를 리스트에 추가하였습니다.\n"
          ]
        }
      ]
    },
    {
      "cell_type": "code",
      "source": [
        "m_list1.insert(1, 0)"
      ],
      "metadata": {
        "colab": {
          "base_uri": "https://localhost:8080/"
        },
        "id": "oD3f-_xmumsn",
        "outputId": "a4fe97e3-b904-476c-be6d-09fb7a174c57"
      },
      "execution_count": null,
      "outputs": [
        {
          "output_type": "stream",
          "name": "stdout",
          "text": [
            "0을/를 1위치에 입력하였습니다.\n"
          ]
        }
      ]
    },
    {
      "cell_type": "code",
      "source": [
        "m_list1.isEmpty()"
      ],
      "metadata": {
        "colab": {
          "base_uri": "https://localhost:8080/"
        },
        "id": "bW4Wkv26u2CS",
        "outputId": "c2c4bc4d-ac9b-4027-8077-c9916d3e7bd0"
      },
      "execution_count": null,
      "outputs": [
        {
          "output_type": "stream",
          "name": "stdout",
          "text": [
            "리스트의 아이템이 비어있지 않습니다.\n"
          ]
        }
      ]
    },
    {
      "cell_type": "code",
      "source": [
        "m_list1.size()"
      ],
      "metadata": {
        "colab": {
          "base_uri": "https://localhost:8080/"
        },
        "id": "385y2Op3u7JM",
        "outputId": "751e7548-3fbd-4e3d-fc6d-23bd4629f705"
      },
      "execution_count": null,
      "outputs": [
        {
          "output_type": "stream",
          "name": "stdout",
          "text": [
            "리스트의 아이템 수는 9개입니다.\n"
          ]
        }
      ]
    },
    {
      "cell_type": "code",
      "source": [
        "m_list1.display()"
      ],
      "metadata": {
        "colab": {
          "base_uri": "https://localhost:8080/"
        },
        "id": "m7HWbqp5vDBH",
        "outputId": "fffea50e-a727-4f02-9b70-ca8f6b12e65b"
      },
      "execution_count": null,
      "outputs": [
        {
          "output_type": "stream",
          "name": "stdout",
          "text": [
            "['', 0, '', 100, 10, 20, 30, 40, 50]\n"
          ]
        }
      ]
    },
    {
      "cell_type": "code",
      "source": [
        "m_list1.getEntry(3)"
      ],
      "metadata": {
        "colab": {
          "base_uri": "https://localhost:8080/"
        },
        "id": "I0FR_o9hveEb",
        "outputId": "fe0fc242-5d9f-4cb7-a6f7-31f40e339fb2"
      },
      "execution_count": null,
      "outputs": [
        {
          "output_type": "stream",
          "name": "stdout",
          "text": [
            "3위치의 요소는 100입니다.\n"
          ]
        }
      ]
    },
    {
      "cell_type": "code",
      "source": [
        "m_list1.find(100)"
      ],
      "metadata": {
        "colab": {
          "base_uri": "https://localhost:8080/"
        },
        "id": "0l_ugSHGvqSq",
        "outputId": "9b5ac875-eb3b-434e-faaf-3ac761917cf0"
      },
      "execution_count": null,
      "outputs": [
        {
          "output_type": "stream",
          "name": "stdout",
          "text": [
            "100이/가 3에 있습니다.\n"
          ]
        }
      ]
    },
    {
      "cell_type": "code",
      "source": [
        "m_list1.replace(2, 60)"
      ],
      "metadata": {
        "colab": {
          "base_uri": "https://localhost:8080/"
        },
        "id": "g5jo5LbUwsRU",
        "outputId": "de290ab9-cbc7-4b5d-cad1-1f8f64580d89"
      },
      "execution_count": null,
      "outputs": [
        {
          "output_type": "stream",
          "name": "stdout",
          "text": [
            "2의 요소를 60(으)로 대체하였습니다.\n"
          ]
        }
      ]
    },
    {
      "cell_type": "code",
      "source": [
        "m_list1.sort(False)"
      ],
      "metadata": {
        "colab": {
          "base_uri": "https://localhost:8080/"
        },
        "id": "FiEiDTtgwzez",
        "outputId": "41faa697-5405-4aeb-a004-fd814077dd56"
      },
      "execution_count": null,
      "outputs": [
        {
          "output_type": "stream",
          "name": "stdout",
          "text": [
            "리스트 요소들의 유형이 서로 달라 정렬할 수 없습니다.\n"
          ]
        }
      ]
    },
    {
      "cell_type": "code",
      "source": [
        "m_list1.display()"
      ],
      "metadata": {
        "colab": {
          "base_uri": "https://localhost:8080/"
        },
        "id": "Ydz1NH6Rw3zp",
        "outputId": "adbbd59b-81ae-48c4-a268-7ad8095c91aa"
      },
      "execution_count": null,
      "outputs": [
        {
          "output_type": "stream",
          "name": "stdout",
          "text": [
            "['', 100, 60, 50, 40, 30, 20, 10, 0]\n"
          ]
        }
      ]
    },
    {
      "cell_type": "code",
      "source": [
        "class Edit :\n",
        "\n",
        "  def __init__(self):\n",
        "    self._list = []\n",
        "\n",
        "  def i(self, pos, e):\n",
        "    if pos < len(self._list):\n",
        "      self._list.insert(pos, e)\n",
        "      print(\"{0}을/를 {1}행에 입력하였습니다.\".format(e, pos+1))\n",
        "    else:                                    \n",
        "      for i in range(pos):\n",
        "        self._list.append('')\n",
        "      self._list.append(e)\n",
        "      print(\"{0}을/를 {1}행에 입력하였습니다.\".format(e, pos+1))\n",
        "\n",
        "  def d(self, pos):\n",
        "    if pos < len(self._list):\n",
        "      element = self._list.pop(pos)\n",
        "      print(\"{}을/를 삭제했습니다.\".format(element))\n",
        "    else :                                                                \n",
        "      print(\"리스트의 범위를 벗어나는 위치를 입력하셨습니다.\")\n",
        "\n",
        "  def r(self, pos, item):\n",
        "    if pos < len(self._list):\n",
        "      self._list.pop(pos)\n",
        "      self._list.insert(pos, item)\n",
        "      print(\"{0}행의 내용을 {1}(으)로 대체하였습니다.\".format(pos, item))\n",
        "    else :\n",
        "      for i in range(len(self._list)+1, pos):\n",
        "        self._list.append('')\n",
        "      self._list.append(item)\n",
        "      print(\"{0}을/를 {1}행에 새로 입력하였습니다.\".format(item, pos+1))\n",
        "\n",
        "  def p(self):\n",
        "    for i in range(len(self._list)) :\n",
        "      print(\"{0}행 {1}\\n\".format(i+1, self._list[i]))\n",
        "\n",
        "  def l(self):\n",
        "    try:\n",
        "      with open(\"test.txt\", mode=\"r\", encoding=\"utf-8-sig\") as f:\n",
        "        print(f.readlines())\n",
        "    except:\n",
        "      print(\"test.txt 파일이 존재하지 않습니다.\")\n",
        "  \n",
        "  def s(self):\n",
        "    with open(\"test.txt\", mode=\"w\", encoding=\"utf-8-sig\") as f:\n",
        "      try: f.write(self._list)"
      ],
      "metadata": {
        "id": "vwtVefP76dbp"
      },
      "execution_count": null,
      "outputs": []
    }
  ]
}